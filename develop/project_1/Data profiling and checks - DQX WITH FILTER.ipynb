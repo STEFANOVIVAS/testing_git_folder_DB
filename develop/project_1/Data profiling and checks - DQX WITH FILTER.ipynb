{
 "cells": [
  {
   "cell_type": "code",
   "execution_count": 0,
   "metadata": {
    "application/vnd.databricks.v1+cell": {
     "cellMetadata": {
      "byteLimit": 2048000,
      "rowLimit": 10000
     },
     "inputWidgets": {},
     "nuid": "ea1f73d6-f9c6-4a90-a6b6-6db85c215349",
     "showTitle": false,
     "tableResultSettingsMap": {},
     "title": ""
    }
   },
   "outputs": [],
   "source": [
    "pip install --force-reinstall --no-cache-dir \"git+https://github.com/STEFANOVIVAS/dqx.git@profile_subset_dataframe\""
   ]
  },
  {
   "cell_type": "code",
   "execution_count": 0,
   "metadata": {
    "application/vnd.databricks.v1+cell": {
     "cellMetadata": {
      "byteLimit": 2048000,
      "rowLimit": 10000
     },
     "inputWidgets": {},
     "nuid": "b0b967a6-00b0-43d0-a6be-ca00c545df02",
     "showTitle": false,
     "tableResultSettingsMap": {},
     "title": ""
    }
   },
   "outputs": [],
   "source": [
    "dbutils.library.restartPython() "
   ]
  },
  {
   "cell_type": "code",
   "execution_count": 0,
   "metadata": {
    "application/vnd.databricks.v1+cell": {
     "cellMetadata": {
      "byteLimit": 2048000,
      "rowLimit": 10000
     },
     "inputWidgets": {},
     "nuid": "09319f88-ae14-4191-851c-90cfc6cef32a",
     "showTitle": false,
     "tableResultSettingsMap": {},
     "title": ""
    }
   },
   "outputs": [],
   "source": [
    "from pyspark.sql.types import *\n",
    "from pyspark.sql.functions import *\n",
    "from datetime import datetime\n",
    "import pyspark.sql.functions as sf"
   ]
  },
  {
   "cell_type": "markdown",
   "metadata": {
    "application/vnd.databricks.v1+cell": {
     "cellMetadata": {
      "byteLimit": 2048000,
      "rowLimit": 10000
     },
     "inputWidgets": {},
     "nuid": "80482213-35a8-4c3a-b9a6-a90d5da7c3f0",
     "showTitle": false,
     "tableResultSettingsMap": {},
     "title": ""
    }
   },
   "source": [
    "NCTAXI GREEN DATASET"
   ]
  },
  {
   "cell_type": "code",
   "execution_count": 0,
   "metadata": {
    "application/vnd.databricks.v1+cell": {
     "cellMetadata": {
      "byteLimit": 2048000,
      "rowLimit": 10000
     },
     "inputWidgets": {},
     "nuid": "c624c229-67b0-4371-acf9-83b8b5d6ab0e",
     "showTitle": false,
     "tableResultSettingsMap": {},
     "title": ""
    }
   },
   "outputs": [],
   "source": [
    "\n",
    "df_taxi_green=spark.read \\\n",
    "    .option(\"header\",True) \\\n",
    "    .option(\"inferSchema\", \"true\") \\\n",
    "    .csv('/databricks-datasets/nyctaxi/tripdata/green/green_tripdata_2019-03.csv.gz')\n",
    "display(df_taxi_green)\n",
    "display(df_taxi_green.count())"
   ]
  },
  {
   "cell_type": "code",
   "execution_count": 0,
   "metadata": {
    "application/vnd.databricks.v1+cell": {
     "cellMetadata": {
      "byteLimit": 2048000,
      "rowLimit": 10000
     },
     "inputWidgets": {},
     "nuid": "768f53a6-8a1a-4d8e-8c9e-a47680612c12",
     "showTitle": false,
     "tableResultSettingsMap": {},
     "title": ""
    }
   },
   "outputs": [],
   "source": [
    "#Filtered dataframe\n",
    "df_taxi_green_filter=df_taxi_green.filter(\"vendorId=1\")"
   ]
  },
  {
   "cell_type": "markdown",
   "metadata": {
    "application/vnd.databricks.v1+cell": {
     "cellMetadata": {
      "byteLimit": 2048000,
      "rowLimit": 10000
     },
     "inputWidgets": {},
     "nuid": "7ce25de2-a57d-40c0-bac5-c81b9f2d6b92",
     "showTitle": false,
     "tableResultSettingsMap": {},
     "title": ""
    }
   },
   "source": [
    "NCTAXI TAXIZONE"
   ]
  },
  {
   "cell_type": "code",
   "execution_count": 0,
   "metadata": {
    "application/vnd.databricks.v1+cell": {
     "cellMetadata": {
      "byteLimit": 2048000,
      "rowLimit": 10000
     },
     "inputWidgets": {},
     "nuid": "7ef1d23d-0218-451d-bcdc-e56677d1258c",
     "showTitle": false,
     "tableResultSettingsMap": {},
     "title": ""
    }
   },
   "outputs": [],
   "source": [
    "df_taxi_zone=spark.read \\\n",
    "    .option(\"header\",True) \\\n",
    "    .option(\"inferSchema\", \"true\") \\\n",
    "    .csv('/databricks-datasets/nyctaxi/taxizone/taxi_zone_lookup.csv')\n",
    "display(df_taxi_zone)\n"
   ]
  },
  {
   "cell_type": "code",
   "execution_count": 0,
   "metadata": {
    "application/vnd.databricks.v1+cell": {
     "cellMetadata": {
      "byteLimit": 2048000,
      "rowLimit": 10000
     },
     "inputWidgets": {},
     "nuid": "53555dab-8714-4e13-93fe-3f19f887e33d",
     "showTitle": false,
     "tableResultSettingsMap": {},
     "title": ""
    }
   },
   "outputs": [],
   "source": [
    "from databricks.labs.dqx.profiler.profiler import DQProfiler\n",
    "from databricks.sdk import WorkspaceClient\n",
    "from databricks.labs.dqx.profiler.generator import DQGenerator\n",
    "from databricks.labs.dqx.engine import DQEngine\n",
    "from databricks.labs.dqx.profiler.dlt_generator import DQDltGenerator"
   ]
  },
  {
   "cell_type": "code",
   "execution_count": 0,
   "metadata": {
    "application/vnd.databricks.v1+cell": {
     "cellMetadata": {
      "byteLimit": 2048000,
      "rowLimit": 10000
     },
     "inputWidgets": {},
     "nuid": "ed2e051b-67f4-44ad-ac72-1ccaba7aa79f",
     "showTitle": false,
     "tableResultSettingsMap": {},
     "title": ""
    }
   },
   "outputs": [],
   "source": [
    "ws = WorkspaceClient()\n",
    "profiler = DQProfiler(ws)\n",
    "\n",
    "custom_options = {\n",
    "            \"sample_fraction\": None,\n",
    "            \"limit\": None,\n",
    "            \"filter\": \"vendorId=1\"\n",
    "        }\n",
    "\n",
    "# Profile a specific table with custom options\n",
    "summary_stats_green_taxi_filter, profiles_green_taxi_filter = profiler.profile(df_taxi_green,options=custom_options)"
   ]
  },
  {
   "cell_type": "code",
   "execution_count": 0,
   "metadata": {
    "application/vnd.databricks.v1+cell": {
     "cellMetadata": {
      "byteLimit": 2048000,
      "rowLimit": 10000
     },
     "inputWidgets": {},
     "nuid": "40354211-1338-4df9-8979-d683b238af4e",
     "showTitle": false,
     "tableResultSettingsMap": {},
     "title": ""
    }
   },
   "outputs": [],
   "source": [
    "summary_stats_green_taxi_filter"
   ]
  },
  {
   "cell_type": "code",
   "execution_count": 0,
   "metadata": {
    "application/vnd.databricks.v1+cell": {
     "cellMetadata": {
      "byteLimit": 2048000,
      "rowLimit": 10000
     },
     "inputWidgets": {},
     "nuid": "f3aa3be0-737d-49bc-885d-880327922fe0",
     "showTitle": false,
     "tableResultSettingsMap": {},
     "title": ""
    }
   },
   "outputs": [],
   "source": [
    "profiles_green_taxi_filter"
   ]
  },
  {
   "cell_type": "code",
   "execution_count": 0,
   "metadata": {
    "application/vnd.databricks.v1+cell": {
     "cellMetadata": {
      "byteLimit": 2048000,
      "rowLimit": 10000
     },
     "inputWidgets": {},
     "nuid": "6854633e-8c6f-4b9d-8c83-938be97ed481",
     "showTitle": false,
     "tableResultSettingsMap": {},
     "title": ""
    }
   },
   "outputs": [],
   "source": [
    "ws = WorkspaceClient()\n",
    "profiler = DQProfiler(ws)\n",
    "\n",
    "custom_options = {\n",
    "            \"sample_fraction\": None,\n",
    "            \"limit\": None,         \n",
    "        }\n",
    "\n",
    "# Profile a specific table with custom options\n",
    "summary_stats_green_taxi, profiles_green_taxi = profiler.profile(df_taxi_green,options=custom_options)"
   ]
  },
  {
   "cell_type": "code",
   "execution_count": 0,
   "metadata": {
    "application/vnd.databricks.v1+cell": {
     "cellMetadata": {
      "byteLimit": 2048000,
      "rowLimit": 10000
     },
     "inputWidgets": {},
     "nuid": "e0394b65-9606-41d1-8950-380d59fd0117",
     "showTitle": false,
     "tableResultSettingsMap": {},
     "title": ""
    }
   },
   "outputs": [],
   "source": [
    "summary_stats_green_taxi"
   ]
  },
  {
   "cell_type": "code",
   "execution_count": 0,
   "metadata": {
    "application/vnd.databricks.v1+cell": {
     "cellMetadata": {
      "byteLimit": 2048000,
      "rowLimit": 10000
     },
     "inputWidgets": {},
     "nuid": "f2043556-6274-4ce1-b622-bf13054ba2f3",
     "showTitle": false,
     "tableResultSettingsMap": {},
     "title": ""
    }
   },
   "outputs": [],
   "source": [
    "profiles_green_taxi"
   ]
  },
  {
   "cell_type": "markdown",
   "metadata": {
    "application/vnd.databricks.v1+cell": {
     "cellMetadata": {
      "byteLimit": 2048000,
      "rowLimit": 10000
     },
     "inputWidgets": {},
     "nuid": "07e95475-35f0-46ed-afda-1a8e4b22dc66",
     "showTitle": false,
     "tableResultSettingsMap": {},
     "title": ""
    }
   },
   "source": [
    "#### Test filter works"
   ]
  },
  {
   "cell_type": "code",
   "execution_count": 0,
   "metadata": {
    "application/vnd.databricks.v1+cell": {
     "cellMetadata": {
      "byteLimit": 2048000,
      "rowLimit": 10000
     },
     "inputWidgets": {},
     "nuid": "26c851fc-1dfe-4d37-bd17-c45cde5fdb7b",
     "showTitle": false,
     "tableResultSettingsMap": {},
     "title": ""
    }
   },
   "outputs": [],
   "source": [
    "df_green_filter_pass_sttdev=df_taxi_green_filter.select(sf.stddev(\"passenger_count\")).collect()[0][0]\n",
    "df_green_pass_sttdev=df_taxi_green.select(sf.stddev(\"passenger_count\")).collect()[0][0]\n",
    "df_green_filter_pass_mean=df_taxi_green_filter.select(sf.mean(\"passenger_count\")).collect()[0][0]\n",
    "df_green_pass_mean=df_taxi_green.select(sf.mean(\"passenger_count\")).collect()[0][0]\n",
    "\n",
    "df_green_filter_fare_sttdev=df_taxi_green_filter.select(sf.stddev(\"fare_amount\")).collect()[0][0]\n",
    "df_green_fare_sttdev=df_taxi_green.select(sf.stddev(\"fare_amount\")).collect()[0][0]\n",
    "df_green_filter_fare_mean=df_taxi_green_filter.select(sf.mean(\"fare_amount\")).collect()[0][0]\n",
    "df_green_fare_mean=df_taxi_green.select(sf.mean(\"fare_amount\")).collect()[0][0]\n",
    "\n",
    "print(f\"filtered_dataset:\",df_green_filter_pass_sttdev,summary_stats_green_taxi_filter[\"passenger_count\"][\"stddev\"])\n",
    "print(f\"filtered_dataset:\",df_green_filter_pass_mean,summary_stats_green_taxi_filter[\"passenger_count\"][\"mean\"])\n",
    "print(f\"filtered_dataset:\",df_green_filter_fare_sttdev,summary_stats_green_taxi_filter[\"fare_amount\"][\"stddev\"])\n",
    "print(f\"filtered_dataset:\",df_green_filter_fare_mean,summary_stats_green_taxi_filter[\"fare_amount\"][\"mean\"])\n",
    "print(f\"dataset:\",df_green_pass_sttdev,summary_stats_green_taxi[\"passenger_count\"][\"stddev\"])\n",
    "print(f\"dataset:\",df_green_pass_mean,summary_stats_green_taxi[\"passenger_count\"][\"mean\"])\n",
    "print(f\"dataset:\",df_green_fare_sttdev,summary_stats_green_taxi[\"fare_amount\"][\"stddev\"])\n",
    "print(f\"dataset:\",df_green_fare_mean,summary_stats_green_taxi[\"fare_amount\"][\"mean\"])"
   ]
  },
  {
   "cell_type": "markdown",
   "metadata": {
    "application/vnd.databricks.v1+cell": {
     "cellMetadata": {
      "byteLimit": 2048000,
      "rowLimit": 10000
     },
     "inputWidgets": {},
     "nuid": "c29530c4-f34c-4b52-8602-db2d7832215e",
     "showTitle": false,
     "tableResultSettingsMap": {},
     "title": ""
    }
   },
   "source": [
    "TEST GENERATE CHECKS ANDA SAVE IT IN FILES AND TABLES"
   ]
  },
  {
   "cell_type": "code",
   "execution_count": 0,
   "metadata": {
    "application/vnd.databricks.v1+cell": {
     "cellMetadata": {
      "byteLimit": 2048000,
      "rowLimit": 10000
     },
     "inputWidgets": {},
     "nuid": "a0224677-033e-4d32-a9c3-cef04dcdefa9",
     "showTitle": false,
     "tableResultSettingsMap": {},
     "title": ""
    }
   },
   "outputs": [],
   "source": [
    "\n",
    "from databricks.labs.dqx.config import (\n",
    "  FileChecksStorageConfig,\n",
    "  WorkspaceFileChecksStorageConfig,\n",
    "  InstallationChecksStorageConfig,\n",
    "  TableChecksStorageConfig,\n",
    "  VolumeFileChecksStorageConfig\n",
    ")\n",
    "ws = WorkspaceClient()\n",
    "# generate DQX quality rules/checks\n",
    "generator = DQGenerator(ws)\n",
    "checks = generator.generate_dq_rules(profiles_green_taxi_filter)  # with default level \"error\"\n",
    "\n",
    "dq_engine = DQEngine(ws)\n",
    "\n",
    "# save checks as a YAML file in the local filesystem (overwrite the file) using relative or absolute path\n",
    "# also works with absolute and relative workspace paths if invoked from Databricks notebook or job\n",
    "dq_engine.save_checks(checks, config=FileChecksStorageConfig(location=\"checks_filter.yml\"))\n",
    "\n",
    "# save checks as a YAML file in arbitrary workspace location (overwrite the file) using absolute path\n",
    "dq_engine.save_checks(checks, config=WorkspaceFileChecksStorageConfig(location=\"/Workspace/Users/stefanovivas@gmail.com/quality_rules/check_filter_ws\"))\n",
    "\n",
    "# save checks in a Delta table to \"default\" run config (append checks)\n",
    "dq_engine.save_checks(checks, config=TableChecksStorageConfig(location=\"main.default.checks_table\", mode=\"append\"))"
   ]
  },
  {
   "cell_type": "code",
   "execution_count": 0,
   "metadata": {
    "application/vnd.databricks.v1+cell": {
     "cellMetadata": {
      "byteLimit": 2048000,
      "implicitDf": true,
      "rowLimit": 10000
     },
     "inputWidgets": {},
     "nuid": "8d7507d3-38fc-434a-afc7-6eeb2cd0da5e",
     "showTitle": false,
     "tableResultSettingsMap": {},
     "title": ""
    }
   },
   "outputs": [],
   "source": [
    "%sql\n",
    "SELECT * FROM main.default.checks_table"
   ]
  },
  {
   "cell_type": "markdown",
   "metadata": {
    "application/vnd.databricks.v1+cell": {
     "cellMetadata": {
      "byteLimit": 2048000,
      "rowLimit": 10000
     },
     "inputWidgets": {},
     "nuid": "fb11bc7d-1b61-4110-a6ac-d73bd13865a0",
     "showTitle": false,
     "tableResultSettingsMap": {},
     "title": ""
    }
   },
   "source": [
    "TEST LOAD CHECKS FROM FILES AND TABLES"
   ]
  },
  {
   "cell_type": "code",
   "execution_count": 0,
   "metadata": {
    "application/vnd.databricks.v1+cell": {
     "cellMetadata": {
      "byteLimit": 2048000,
      "rowLimit": 10000
     },
     "inputWidgets": {},
     "nuid": "af3ce6e2-efc3-41d4-b48b-67675e4d0688",
     "showTitle": false,
     "tableResultSettingsMap": {},
     "title": ""
    }
   },
   "outputs": [],
   "source": [
    "# df_taxi_green.write.saveAsTable(\"main.default.taxi_green\")"
   ]
  },
  {
   "cell_type": "code",
   "execution_count": 0,
   "metadata": {
    "application/vnd.databricks.v1+cell": {
     "cellMetadata": {
      "byteLimit": 2048000,
      "rowLimit": 10000
     },
     "inputWidgets": {},
     "nuid": "4fec7086-e2b0-46a8-b021-afdfbdcc79a0",
     "showTitle": false,
     "tableResultSettingsMap": {},
     "title": ""
    }
   },
   "outputs": [],
   "source": [
    "from databricks.labs.dqx.engine import DQEngine\n",
    "from databricks.labs.dqx.config import InputConfig, OutputConfig\n",
    "from databricks.labs.dqx.config import (\n",
    "  FileChecksStorageConfig,\n",
    "  WorkspaceFileChecksStorageConfig,\n",
    "  InstallationChecksStorageConfig,\n",
    "  TableChecksStorageConfig,\n",
    "  VolumeFileChecksStorageConfig\n",
    ")\n",
    "from databricks.sdk import WorkspaceClient\n",
    "\n",
    "dq_engine = DQEngine(WorkspaceClient())\n",
    "\n",
    "# load checks from a local file using relative or absolute path\n",
    "# also works for absolute and relative workspace paths if invoked from Databricks notebook or job\n",
    "quality_checks_file: list[dict] = dq_engine.load_checks(config=FileChecksStorageConfig(location=\"checks_filter.yml\"))\n",
    "\n",
    "# load checks from arbitrary workspace location using absolute path\n",
    "quality_checks_workspace: list[dict] = dq_engine.load_checks(config=WorkspaceFileChecksStorageConfig(location=\"/Workspace/Users/stefanovivas@gmail.com/quality_rules/check_filter_ws\"))\n",
    "\n",
    "# load checks from a Delta table and default run config name\n",
    "quality_checks_table= dq_engine.load_checks(config=TableChecksStorageConfig(location=\"main.default.checks_table\"))"
   ]
  },
  {
   "cell_type": "markdown",
   "metadata": {
    "application/vnd.databricks.v1+cell": {
     "cellMetadata": {
      "byteLimit": 2048000,
      "rowLimit": 10000
     },
     "inputWidgets": {},
     "nuid": "0e0d046a-a913-4e1b-a9c7-758a78664e3a",
     "showTitle": false,
     "tableResultSettingsMap": {},
     "title": ""
    }
   },
   "source": [
    "Applying checks defined using metadata in the filtered dataset"
   ]
  },
  {
   "cell_type": "code",
   "execution_count": 0,
   "metadata": {
    "application/vnd.databricks.v1+cell": {
     "cellMetadata": {
      "byteLimit": 2048000,
      "rowLimit": 10000
     },
     "inputWidgets": {},
     "nuid": "8d97e0ff-b3ca-4288-8d39-a5afbbc6fed4",
     "showTitle": false,
     "tableResultSettingsMap": {},
     "title": ""
    }
   },
   "outputs": [],
   "source": [
    "# Option 1: apply quality checks on the DataFrame and output results as a single DataFrame\n",
    "valid_and_invalid_df = dq_engine.apply_checks_by_metadata(df_taxi_green, checks)\n",
    "dq_engine.save_results_in_table(\n",
    "  output_df=valid_and_invalid_df,\n",
    "  output_config=OutputConfig(location=\"main.default.output_checks\"),\n",
    ")\n",
    "\n",
    "# Option 2: apply quality checks on the DataFrame and provide valid and invalid (quarantined) DataFrames\n",
    "valid_df, invalid_df = dq_engine.apply_checks_by_metadata_and_split(df_taxi_green, checks)\n",
    "dq_engine.save_results_in_table(\n",
    "  output_df=valid_df,\n",
    "  quarantine_df=invalid_df,\n",
    "  output_config=OutputConfig(location=\"main.default.output_valid_checks\"),\n",
    "  quarantine_config=OutputConfig(location=\"main.default.quarantine_checks\"),\n",
    ")\n",
    "\n",
    "# Option 3 End-to-End approach: apply quality checks on the input table and save results to valid and invalid (quarantined) tables\n",
    "dq_engine.apply_checks_by_metadata_and_save_in_table(\n",
    "    checks=checks,\n",
    "    input_config=InputConfig(location=\"main.default.taxi_green\"),\n",
    "    output_config=OutputConfig(location=\"main.default.valid_checks_e2e\"),\n",
    "    quarantine_config=OutputConfig(location=\"main.default.quarantine_checks_e2e\"),\n",
    ")"
   ]
  },
  {
   "cell_type": "code",
   "execution_count": 0,
   "metadata": {
    "application/vnd.databricks.v1+cell": {
     "cellMetadata": {
      "byteLimit": 2048000,
      "implicitDf": true,
      "rowLimit": 10000
     },
     "inputWidgets": {},
     "nuid": "2fa4d9da-15ac-4ca1-bf08-921ec5e96216",
     "showTitle": false,
     "tableResultSettingsMap": {},
     "title": ""
    }
   },
   "outputs": [],
   "source": [
    "%sql\n",
    "SELECT * FROM main.default.output_checks"
   ]
  },
  {
   "cell_type": "code",
   "execution_count": 0,
   "metadata": {
    "application/vnd.databricks.v1+cell": {
     "cellMetadata": {
      "byteLimit": 2048000,
      "implicitDf": true,
      "rowLimit": 10000
     },
     "inputWidgets": {},
     "nuid": "af5f576b-1eca-4ea2-b462-76e7bba33cd3",
     "showTitle": false,
     "tableResultSettingsMap": {
      "0": {
       "dataGridStateBlob": "{\"version\":1,\"tableState\":{\"columnPinning\":{\"left\":[\"#row_number#\"],\"right\":[]},\"columnSizing\":{},\"columnVisibility\":{}},\"settings\":{\"columns\":{}},\"syncTimestamp\":1758902451452}",
       "filterBlob": null,
       "queryPlanFiltersBlob": null,
       "tableResultIndex": 0
      }
     },
     "title": ""
    }
   },
   "outputs": [],
   "source": [
    "%sql\n",
    "-- SELECT * FROM main.default.output_valid_checks\n",
    "SELECT * FROM  main.default.quarantine_checks"
   ]
  },
  {
   "cell_type": "markdown",
   "metadata": {
    "application/vnd.databricks.v1+cell": {
     "cellMetadata": {},
     "inputWidgets": {},
     "nuid": "2d324b2a-524d-4992-856b-48b21a54c6bd",
     "showTitle": false,
     "tableResultSettingsMap": {},
     "title": ""
    }
   },
   "source": [
    "TEST INVALID FILTER"
   ]
  },
  {
   "cell_type": "code",
   "execution_count": 0,
   "metadata": {
    "application/vnd.databricks.v1+cell": {
     "cellMetadata": {
      "byteLimit": 2048000,
      "rowLimit": 10000
     },
     "inputWidgets": {},
     "nuid": "06277ded-803a-4975-b3f6-308da199aa79",
     "showTitle": false,
     "tableResultSettingsMap": {},
     "title": ""
    }
   },
   "outputs": [],
   "source": [
    "ws = WorkspaceClient()\n",
    "profiler = DQProfiler(ws)\n",
    "\n",
    "custom_options = {\n",
    "            \"sample_fraction\": None,\n",
    "            \"limit\": None,\n",
    "            \"filter\": \"\"\n",
    "        }\n",
    "\n",
    "# Profile a specific table with custom options\n",
    "summary_stats_green_taxi_invalid_filter, profiles_green_taxi_invalid_filter = profiler.profile(df_taxi_green,options=custom_options)"
   ]
  },
  {
   "cell_type": "code",
   "execution_count": 0,
   "metadata": {
    "application/vnd.databricks.v1+cell": {
     "cellMetadata": {
      "byteLimit": 2048000,
      "rowLimit": 10000
     },
     "inputWidgets": {},
     "nuid": "ac7f59b9-c073-4734-8189-70a3c6d939f8",
     "showTitle": false,
     "tableResultSettingsMap": {},
     "title": ""
    }
   },
   "outputs": [],
   "source": [
    "summary_stats_green_taxi_invalid_filter"
   ]
  }
 ],
 "metadata": {
  "application/vnd.databricks.v1+notebook": {
   "computePreferences": null,
   "dashboards": [],
   "environmentMetadata": {
    "base_environment": "",
    "environment_version": "2"
   },
   "inputWidgetPreferences": null,
   "language": "python",
   "notebookMetadata": {
    "mostRecentlyExecutedCommandWithImplicitDF": {
     "commandId": 8731355258777765,
     "dataframes": [
      "_sqldf"
     ]
    },
    "pythonIndentUnit": 4
   },
   "notebookName": "Data profiling and checks - DQX WITH FILTER",
   "widgets": {}
  },
  "language_info": {
   "name": "python"
  }
 },
 "nbformat": 4,
 "nbformat_minor": 0
}
